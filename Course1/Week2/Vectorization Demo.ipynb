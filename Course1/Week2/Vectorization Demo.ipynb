{
 "cells": [
  {
   "cell_type": "code",
   "execution_count": 1,
   "metadata": {
    "scrolled": true
   },
   "outputs": [
    {
     "name": "stdout",
     "output_type": "stream",
     "text": [
      "249917.05427083327\n",
      "Time taken with vectorization: 7.7991485595703125ms\n",
      "------------------------------------------------------------------------\n",
      "249917.05427082398\n",
      "Time taken without vectorization: 638.5221481323242ms\n"
     ]
    }
   ],
   "source": [
    "import numpy as np\n",
    "import time\n",
    "\n",
    "a = np.random.rand(1000000) #generating random 1Million numbers\n",
    "b = np.random.rand(1000000) #generating random 1Million numbers\n",
    "\n",
    "#Vectorized Execution\n",
    "tic = time.time()   #starting of timer\n",
    "w = np.dot(a,b)\n",
    "toc= time.time()   #ending timer\n",
    "\n",
    "print(w)\n",
    "print(\"Time taken with vectorization: \"+str((toc-tic)*1000) +\"ms\")\n",
    "print(\"------------------------------------------------------------------------\")\n",
    "\n",
    "#UnVectorized Execution\n",
    "w = 0\n",
    "tic = time.time()    #starting of timer\n",
    "for i in range(1000000):\n",
    "    w +=a[i]*b[i]\n",
    "toc = time.time()   #ending timer\n",
    "\n",
    "print(w)\n",
    "print(\"Time taken without vectorization: \"+str((toc-tic)*1000) +\"ms\") \n",
    "#time taken is ending - starting time and 1000 is multiplied to get results in milliseconds"
   ]
  }
 ],
 "metadata": {
  "kernelspec": {
   "display_name": "Python 3",
   "language": "python",
   "name": "python3"
  },
  "language_info": {
   "codemirror_mode": {
    "name": "ipython",
    "version": 3
   },
   "file_extension": ".py",
   "mimetype": "text/x-python",
   "name": "python",
   "nbconvert_exporter": "python",
   "pygments_lexer": "ipython3",
   "version": "3.7.4"
  }
 },
 "nbformat": 4,
 "nbformat_minor": 4
}
